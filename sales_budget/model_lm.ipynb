{
 "cells": [
  {
   "cell_type": "code",
   "execution_count": 29,
   "id": "18c39096-2b71-495b-a6cc-77a42b88aa28",
   "metadata": {},
   "outputs": [
    {
     "data": {
      "text/plain": [
       "(200, 4)"
      ]
     },
     "metadata": {},
     "output_type": "display_data"
    },
    {
     "data": {
      "text/html": [
       "<div>\n",
       "<style scoped>\n",
       "    .dataframe tbody tr th:only-of-type {\n",
       "        vertical-align: middle;\n",
       "    }\n",
       "\n",
       "    .dataframe tbody tr th {\n",
       "        vertical-align: top;\n",
       "    }\n",
       "\n",
       "    .dataframe thead th {\n",
       "        text-align: right;\n",
       "    }\n",
       "</style>\n",
       "<table border=\"1\" class=\"dataframe\">\n",
       "  <thead>\n",
       "    <tr style=\"text-align: right;\">\n",
       "      <th></th>\n",
       "      <th>TV</th>\n",
       "      <th>Radio</th>\n",
       "      <th>Newspaper</th>\n",
       "      <th>Sales</th>\n",
       "    </tr>\n",
       "  </thead>\n",
       "  <tbody>\n",
       "    <tr>\n",
       "      <th>1</th>\n",
       "      <td>230.1</td>\n",
       "      <td>37.8</td>\n",
       "      <td>69.2</td>\n",
       "      <td>22.1</td>\n",
       "    </tr>\n",
       "    <tr>\n",
       "      <th>2</th>\n",
       "      <td>44.5</td>\n",
       "      <td>39.3</td>\n",
       "      <td>45.1</td>\n",
       "      <td>10.4</td>\n",
       "    </tr>\n",
       "    <tr>\n",
       "      <th>3</th>\n",
       "      <td>17.2</td>\n",
       "      <td>45.9</td>\n",
       "      <td>69.3</td>\n",
       "      <td>9.3</td>\n",
       "    </tr>\n",
       "    <tr>\n",
       "      <th>4</th>\n",
       "      <td>151.5</td>\n",
       "      <td>41.3</td>\n",
       "      <td>58.5</td>\n",
       "      <td>18.5</td>\n",
       "    </tr>\n",
       "    <tr>\n",
       "      <th>5</th>\n",
       "      <td>180.8</td>\n",
       "      <td>10.8</td>\n",
       "      <td>58.4</td>\n",
       "      <td>12.9</td>\n",
       "    </tr>\n",
       "  </tbody>\n",
       "</table>\n",
       "</div>"
      ],
      "text/plain": [
       "      TV  Radio  Newspaper  Sales\n",
       "1  230.1   37.8       69.2   22.1\n",
       "2   44.5   39.3       45.1   10.4\n",
       "3   17.2   45.9       69.3    9.3\n",
       "4  151.5   41.3       58.5   18.5\n",
       "5  180.8   10.8       58.4   12.9"
      ]
     },
     "metadata": {},
     "output_type": "display_data"
    }
   ],
   "source": [
    "import os\n",
    "import joblib\n",
    "import pickle\n",
    "import pandas as pd\n",
    "import numpy as np\n",
    "from sklearn.linear_model import LinearRegression\n",
    "from sklearn.model_selection import train_test_split\n",
    "from google.cloud import bigquery, storage\n",
    "\n",
    "os.chdir('/home/jupyter/projects_data/sales_budget')\n",
    "\n",
    "project_id = 'valid-heuristic-369117'\n",
    "\n",
    "df = pd.read_csv('Advertising.csv', index_col=[0])\n",
    "display(df.shape, df.head())"
   ]
  },
  {
   "cell_type": "code",
   "execution_count": 30,
   "id": "7816de20-836b-42cd-bd9f-67a40a134497",
   "metadata": {},
   "outputs": [
    {
     "data": {
      "text/plain": [
       "(150, 3)"
      ]
     },
     "metadata": {},
     "output_type": "display_data"
    },
    {
     "data": {
      "text/plain": [
       "(50, 3)"
      ]
     },
     "metadata": {},
     "output_type": "display_data"
    },
    {
     "data": {
      "text/plain": [
       "(150,)"
      ]
     },
     "metadata": {},
     "output_type": "display_data"
    },
    {
     "data": {
      "text/html": [
       "<div>\n",
       "<style scoped>\n",
       "    .dataframe tbody tr th:only-of-type {\n",
       "        vertical-align: middle;\n",
       "    }\n",
       "\n",
       "    .dataframe tbody tr th {\n",
       "        vertical-align: top;\n",
       "    }\n",
       "\n",
       "    .dataframe thead th {\n",
       "        text-align: right;\n",
       "    }\n",
       "</style>\n",
       "<table border=\"1\" class=\"dataframe\">\n",
       "  <thead>\n",
       "    <tr style=\"text-align: right;\">\n",
       "      <th></th>\n",
       "      <th>TV</th>\n",
       "      <th>Radio</th>\n",
       "      <th>Newspaper</th>\n",
       "    </tr>\n",
       "  </thead>\n",
       "  <tbody>\n",
       "    <tr>\n",
       "      <th>66</th>\n",
       "      <td>69.0</td>\n",
       "      <td>9.3</td>\n",
       "      <td>0.9</td>\n",
       "    </tr>\n",
       "    <tr>\n",
       "      <th>154</th>\n",
       "      <td>171.3</td>\n",
       "      <td>39.7</td>\n",
       "      <td>37.7</td>\n",
       "    </tr>\n",
       "    <tr>\n",
       "      <th>152</th>\n",
       "      <td>121.0</td>\n",
       "      <td>8.4</td>\n",
       "      <td>48.7</td>\n",
       "    </tr>\n",
       "    <tr>\n",
       "      <th>82</th>\n",
       "      <td>239.8</td>\n",
       "      <td>4.1</td>\n",
       "      <td>36.9</td>\n",
       "    </tr>\n",
       "    <tr>\n",
       "      <th>4</th>\n",
       "      <td>151.5</td>\n",
       "      <td>41.3</td>\n",
       "      <td>58.5</td>\n",
       "    </tr>\n",
       "  </tbody>\n",
       "</table>\n",
       "</div>"
      ],
      "text/plain": [
       "        TV  Radio  Newspaper\n",
       "66    69.0    9.3        0.9\n",
       "154  171.3   39.7       37.7\n",
       "152  121.0    8.4       48.7\n",
       "82   239.8    4.1       36.9\n",
       "4    151.5   41.3       58.5"
      ]
     },
     "metadata": {},
     "output_type": "display_data"
    }
   ],
   "source": [
    "X = df.copy()\n",
    "y = X.pop('Sales')\n",
    "\n",
    "X_train, X_test, y_train, y_test = train_test_split(X, y, test_size = int(0.25*X.shape[0]))\n",
    "display(X_train.shape, X_test.shape, y_train.shape, X_train.head())"
   ]
  },
  {
   "cell_type": "code",
   "execution_count": 31,
   "id": "b4615ca1-5812-42df-a59b-0dac1ffff695",
   "metadata": {},
   "outputs": [
    {
     "data": {
      "text/plain": [
       "array([10.7589307 ,  3.6819708 , 19.58883077, 18.36091744, 19.41304202,\n",
       "       17.18872221, 16.21741955, 16.47606294, 15.32908649, 14.22264164,\n",
       "       14.09391978, 16.27647109, 10.99754864, 17.14055469, 16.71531145,\n",
       "       15.53977193,  9.08344624, 15.15230359, 23.15077175, 16.86037817,\n",
       "       11.96774453, 12.2783284 ,  9.97096354, 24.03596658, 12.18289819,\n",
       "       12.56563668,  9.27532247, 16.39788637, 19.88070113, 18.04637718,\n",
       "        8.13762604, 17.2522204 , 13.90645555, 21.4817348 , 21.61737551,\n",
       "       17.71098623,  9.76959383, 13.79767421,  7.86025404,  6.01512732,\n",
       "        3.56622559, 24.06942234, 11.53021902, 14.67945975, 12.70676218,\n",
       "       23.70003135,  7.52341933,  8.9442533 ,  6.09571419,  5.25707468])"
      ]
     },
     "execution_count": 31,
     "metadata": {},
     "output_type": "execute_result"
    }
   ],
   "source": [
    "lm = LinearRegression()\n",
    "lm.fit(X_train, y_train)\n",
    "lm.predict(X_test)"
   ]
  },
  {
   "cell_type": "code",
   "execution_count": 32,
   "id": "e93a67de-647c-4994-b15a-72442e262314",
   "metadata": {},
   "outputs": [
    {
     "data": {
      "text/plain": [
       "['lr_model.pkl']"
      ]
     },
     "execution_count": 32,
     "metadata": {},
     "output_type": "execute_result"
    }
   ],
   "source": [
    "os.chdir('/home/jupyter/projects_gcp_cpu/sales_budget')\n",
    "artifact_filename = 'lr_model.pkl'\n",
    "joblib.dump(lm, artifact_filename)"
   ]
  },
  {
   "cell_type": "code",
   "execution_count": 33,
   "id": "7e7c700d-5970-4a7e-99ba-6e2a965983d8",
   "metadata": {},
   "outputs": [],
   "source": [
    "# put model artifact into a bucket\n",
    "model_bucket = 'gs://pmykola-projectsgcp-artifacts/sales-budget'\n",
    "storage_path = os.path.join(model_bucket, artifact_filename)\n",
    "blob = storage.blob.Blob.from_string(storage_path, client=storage.Client(project=project_id))\n",
    "blob.upload_from_filename(os.getcwd()+'/'+artifact_filename)"
   ]
  },
  {
   "cell_type": "code",
   "execution_count": null,
   "id": "a40fa547-7b2c-42dc-aecb-3da218d5a236",
   "metadata": {},
   "outputs": [],
   "source": []
  },
  {
   "cell_type": "code",
   "execution_count": 8,
   "id": "feff6ac2-ea76-416a-b829-7175712d5dd7",
   "metadata": {},
   "outputs": [
    {
     "name": "stdout",
     "output_type": "stream",
     "text": [
      "[21.42510604]\n"
     ]
    },
    {
     "name": "stderr",
     "output_type": "stream",
     "text": [
      "/opt/conda/lib/python3.7/site-packages/ipykernel_launcher.py:2: DeprecationWarning: `np.float` is a deprecated alias for the builtin `float`. To silence this warning, use `float` by itself. Doing this will not modify any behavior and is safe. If you specifically wanted the numpy scalar type, use `np.float64` here.\n",
      "Deprecated in NumPy 1.20; for more details and guidance: https://numpy.org/devdocs/release/1.20.0-notes.html#deprecations\n",
      "  \n",
      "/opt/conda/lib/python3.7/site-packages/sklearn/base.py:451: UserWarning: X does not have valid feature names, but LinearRegression was fitted with feature names\n",
      "  \"X does not have valid feature names, but\"\n"
     ]
    }
   ],
   "source": [
    "test_data = [159.1, 60.2, 90]\n",
    "test_data = np.array(test_data).astype(np.float)\n",
    "test_data = test_data.reshape(1,-1)\n",
    "test_data\n",
    "\n",
    "filePath = 'lr_model.pkl'\n",
    "file = open(filePath, \"rb\")\n",
    "trained_model = joblib.load(file)\n",
    "\n",
    "prediction = trained_model.predict(test_data)\n",
    "print(prediction)"
   ]
  },
  {
   "cell_type": "markdown",
   "id": "6e3bdd2e-e1e8-49e1-8cf9-3ec76e88c7f0",
   "metadata": {},
   "source": [
    "### Below I start building a repo for this deployable model"
   ]
  },
  {
   "cell_type": "code",
   "execution_count": 7,
   "id": "25ff49fe-7312-4519-9728-410b7e135c66",
   "metadata": {},
   "outputs": [
    {
     "name": "stdout",
     "output_type": "stream",
     "text": [
      "/home/jupyter/projects_gcp_cpu/sales_budget\n"
     ]
    }
   ],
   "source": [
    "# cd projects_gcp_cpu/sales_budget"
   ]
  },
  {
   "cell_type": "code",
   "execution_count": 10,
   "id": "6ed7228d-45a2-4ebf-8c0a-a24594eb381d",
   "metadata": {},
   "outputs": [],
   "source": [
    "# !touch README.md"
   ]
  },
  {
   "cell_type": "code",
   "execution_count": 2,
   "id": "e05a4b14-318d-4f3c-895e-9abcc8ca5c0b",
   "metadata": {},
   "outputs": [
    {
     "data": {
      "text/html": [
       "\n",
       "        <iframe\n",
       "            width=\"100%\"\n",
       "            height=\"500px\"\n",
       "            src=\"http://127.0.0.1:5000\"\n",
       "            frameborder=\"0\"\n",
       "            allowfullscreen\n",
       "            \n",
       "        ></iframe>\n",
       "        "
      ],
      "text/plain": [
       "<IPython.lib.display.IFrame at 0x7f8ca9e85ad0>"
      ]
     },
     "execution_count": 2,
     "metadata": {},
     "output_type": "execute_result"
    }
   ],
   "source": [
    "from IPython.display import IFrame\n",
    "IFrame(src=\"http://127.0.0.1:5000\", width='100%', height='500px')"
   ]
  },
  {
   "cell_type": "code",
   "execution_count": 17,
   "id": "47e04bb2-9acd-42cc-8c08-9db9c46efc77",
   "metadata": {},
   "outputs": [
    {
     "name": "stdout",
     "output_type": "stream",
     "text": [
      "/home/jupyter/projects_gcp_cpu/sales_budget/sales-app\n"
     ]
    }
   ],
   "source": [
    "cd sales-app"
   ]
  },
  {
   "cell_type": "code",
   "execution_count": 19,
   "id": "0dbadfff-b1e2-47c5-9cca-4327900255ef",
   "metadata": {},
   "outputs": [
    {
     "name": "stdout",
     "output_type": "stream",
     "text": [
      "{'ip': '34.82.221.249', 'hostname': '249.221.82.34.bc.googleusercontent.com', 'city': 'The Dalles', 'region': 'Oregon', 'country': 'US', 'loc': '45.5946,-121.1787', 'org': 'AS396982 Google LLC', 'postal': '97058', 'timezone': 'America/Los_Angeles', 'readme': 'https://ipinfo.io/missingauth'}\n"
     ]
    }
   ],
   "source": [
    "import requests\n",
    "print(requests.get('https://ipinfo.io').json())"
   ]
  },
  {
   "cell_type": "code",
   "execution_count": 3,
   "id": "fe13b2b3-adf2-4a01-bf37-345f562c4c66",
   "metadata": {},
   "outputs": [
    {
     "data": {
      "text/plain": [
       "False"
      ]
     },
     "execution_count": 3,
     "metadata": {},
     "output_type": "execute_result"
    }
   ],
   "source": [
    "import webbrowser\n",
    "\n",
    "# generate an URL\n",
    "url = 'http://127.0.0.1:5000'\n",
    "webbrowser.open(url)"
   ]
  },
  {
   "cell_type": "code",
   "execution_count": 26,
   "id": "5db0e420-2604-4f90-b443-ed3eeace06e6",
   "metadata": {},
   "outputs": [
    {
     "data": {
      "application/javascript": [
       "window.open(\"http://127.0.0.1:5000\");"
      ],
      "text/plain": [
       "<IPython.core.display.Javascript object>"
      ]
     },
     "metadata": {},
     "output_type": "display_data"
    }
   ],
   "source": [
    "# from IPython.display import Javascript\n",
    "\n",
    "# def window_open(url):\n",
    "#     display(Javascript('window.open(\"{url}\");'.format(url=url)))\n",
    "    \n",
    "# window_open(url)"
   ]
  },
  {
   "cell_type": "code",
   "execution_count": null,
   "id": "06d23112-747d-4d36-8de6-260702e5282b",
   "metadata": {},
   "outputs": [],
   "source": []
  },
  {
   "cell_type": "code",
   "execution_count": null,
   "id": "b86e35d8-38ba-4895-a27d-f8ad58ad6fe4",
   "metadata": {},
   "outputs": [],
   "source": []
  },
  {
   "cell_type": "code",
   "execution_count": null,
   "id": "69b21279-b5d3-471f-aca2-d247eb3ac3b1",
   "metadata": {},
   "outputs": [],
   "source": []
  },
  {
   "cell_type": "code",
   "execution_count": null,
   "id": "40c931cf-1415-41f1-b982-3d03efaf3abc",
   "metadata": {},
   "outputs": [],
   "source": []
  },
  {
   "cell_type": "code",
   "execution_count": null,
   "id": "47c77303-be23-47e7-83fe-5f51abba3bb7",
   "metadata": {},
   "outputs": [],
   "source": []
  },
  {
   "cell_type": "code",
   "execution_count": null,
   "id": "6a7aee6b-56a3-4025-a917-bcfd504aec28",
   "metadata": {},
   "outputs": [],
   "source": []
  }
 ],
 "metadata": {
  "environment": {
   "kernel": "python3",
   "name": "common-cpu.m100",
   "type": "gcloud",
   "uri": "gcr.io/deeplearning-platform-release/base-cpu:m100"
  },
  "kernelspec": {
   "display_name": "Python 3",
   "language": "python",
   "name": "python3"
  },
  "language_info": {
   "codemirror_mode": {
    "name": "ipython",
    "version": 3
   },
   "file_extension": ".py",
   "mimetype": "text/x-python",
   "name": "python",
   "nbconvert_exporter": "python",
   "pygments_lexer": "ipython3",
   "version": "3.7.12"
  }
 },
 "nbformat": 4,
 "nbformat_minor": 5
}
