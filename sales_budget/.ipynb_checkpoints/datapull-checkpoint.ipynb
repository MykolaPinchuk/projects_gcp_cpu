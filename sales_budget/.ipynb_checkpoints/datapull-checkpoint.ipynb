{
 "cells": [
  {
   "cell_type": "code",
   "execution_count": 3,
   "id": "790b9f88-45c6-4feb-b2cb-a819f8ce520f",
   "metadata": {},
   "outputs": [
    {
     "name": "stdout",
     "output_type": "stream",
     "text": [
      "/home/jupyter/projects_data\n"
     ]
    }
   ],
   "source": [
    "cd projects_data"
   ]
  },
  {
   "cell_type": "code",
   "execution_count": 5,
   "id": "d6ede0b5-b3c1-472f-bdfe-0265299aa1b1",
   "metadata": {},
   "outputs": [],
   "source": [
    "mkdir sales_budget"
   ]
  },
  {
   "cell_type": "code",
   "execution_count": 8,
   "id": "a045d364-dca5-4a8e-9185-cdfe22c43d76",
   "metadata": {},
   "outputs": [
    {
     "name": "stdout",
     "output_type": "stream",
     "text": [
      "/home/jupyter/projects_data/sales_budget\n"
     ]
    }
   ],
   "source": [
    "cd sales_budget"
   ]
  },
  {
   "cell_type": "code",
   "execution_count": 11,
   "id": "b8dd3cb6-90d8-4cdb-b0df-55f4f7d11ec3",
   "metadata": {},
   "outputs": [
    {
     "name": "stdout",
     "output_type": "stream",
     "text": [
      "advertising-data.zip\n"
     ]
    }
   ],
   "source": [
    "ls"
   ]
  },
  {
   "cell_type": "code",
   "execution_count": 10,
   "id": "10383e2c-2b4a-4f8b-acbb-8826e5b7df92",
   "metadata": {},
   "outputs": [
    {
     "name": "stdout",
     "output_type": "stream",
     "text": [
      "Warning: Your Kaggle API key is readable by other users on this system! To fix this, you can run 'chmod 600 /home/jupyter/.kaggle/kaggle.json'\n",
      "Downloading advertising-data.zip to /home/jupyter/projects_data/sales_budget\n",
      "  0%|                                               | 0.00/2.26k [00:00<?, ?B/s]\n",
      "100%|██████████████████████████████████████| 2.26k/2.26k [00:00<00:00, 2.20MB/s]\n"
     ]
    }
   ],
   "source": [
    "!kaggle datasets download -d purbar/advertising-data"
   ]
  },
  {
   "cell_type": "code",
   "execution_count": 13,
   "id": "d35b687e-7fa1-473f-915c-66020450b726",
   "metadata": {},
   "outputs": [
    {
     "name": "stdout",
     "output_type": "stream",
     "text": [
      "Archive:  advertising-data.zip\n",
      "  inflating: Advertising.csv         \n"
     ]
    }
   ],
   "source": [
    "!unzip -o advertising-data.zip"
   ]
  },
  {
   "cell_type": "code",
   "execution_count": 14,
   "id": "594ec3e6-cc86-48f4-85da-ead29bdedebf",
   "metadata": {},
   "outputs": [
    {
     "name": "stdout",
     "output_type": "stream",
     "text": [
      "Advertising.csv  advertising-data.zip\n"
     ]
    }
   ],
   "source": [
    "ls"
   ]
  }
 ],
 "metadata": {
  "environment": {
   "kernel": "python3",
   "name": "common-cpu.m100",
   "type": "gcloud",
   "uri": "gcr.io/deeplearning-platform-release/base-cpu:m100"
  },
  "kernelspec": {
   "display_name": "Python 3",
   "language": "python",
   "name": "python3"
  },
  "language_info": {
   "codemirror_mode": {
    "name": "ipython",
    "version": 3
   },
   "file_extension": ".py",
   "mimetype": "text/x-python",
   "name": "python",
   "nbconvert_exporter": "python",
   "pygments_lexer": "ipython3",
   "version": "3.7.12"
  }
 },
 "nbformat": 4,
 "nbformat_minor": 5
}
