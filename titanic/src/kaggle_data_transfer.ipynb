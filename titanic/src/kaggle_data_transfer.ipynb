{
 "cells": [
  {
   "cell_type": "markdown",
   "id": "06ae639b-b194-483d-bc6f-6fd5c99a3e9b",
   "metadata": {},
   "source": [
    "### This is a short script to ingest Kaggle dataset.\n",
    "It uses Kaggle API to inget dataset directly into this VM. Given small dataset size, I do not bother saving dataset into google bucket"
   ]
  },
  {
   "cell_type": "code",
   "execution_count": 2,
   "id": "b9f9a5d4-33e1-4145-839b-b570e6ab50ac",
   "metadata": {},
   "outputs": [],
   "source": [
    "# ! pip install kaggle\n",
    "\n",
    "# https://towardsdatascience.com/quickly-transfer-a-kaggle-dataset-into-a-google-bucket-ac21aefceb15#:~:text=Navigate%20to%20the%20competition%20or,tool%20and%20extract%20the%20data.&text=Then%20all%20that's%20left%20is,VM%20and%20transfer%20the%20data!\n",
    "# some instructions on how to set up the whole thing\n",
    "\n",
    "# mkdir .kaggle"
   ]
  },
  {
   "cell_type": "code",
   "execution_count": 11,
   "id": "4cffb4f7-d65c-4ca0-8c11-7bab175a7516",
   "metadata": {},
   "outputs": [],
   "source": [
    "# ls -a\n",
    "\n",
    "# get kaggle.json, put it into gcp bucket.\n",
    "\n",
    "# !gcloud storage cp gs://pmykola-projects-data/temp/kaggle.json .kaggle"
   ]
  },
  {
   "cell_type": "code",
   "execution_count": 75,
   "id": "db822fa9-2e2a-4fdb-8ad8-7dac1357cbce",
   "metadata": {},
   "outputs": [
    {
     "name": "stdout",
     "output_type": "stream",
     "text": [
      "Warning: Your Kaggle API key is readable by other users on this system! To fix this, you can run 'chmod 600 /home/jupyter/.kaggle/kaggle.json'\n",
      "Downloading titanic.zip to /home/jupyter\n",
      "  0%|                                               | 0.00/34.1k [00:00<?, ?B/s]\n",
      "100%|██████████████████████████████████████| 34.1k/34.1k [00:00<00:00, 23.9MB/s]\n"
     ]
    }
   ],
   "source": [
    "!kaggle competitions download -c titanic"
   ]
  },
  {
   "cell_type": "code",
   "execution_count": 77,
   "id": "c43af654-5470-4f34-bd20-71af4bb74be7",
   "metadata": {},
   "outputs": [
    {
     "name": "stdout",
     "output_type": "stream",
     "text": [
      "/home/jupyter/.kaggle\n"
     ]
    }
   ],
   "source": [
    "cd .kaggle"
   ]
  },
  {
   "cell_type": "code",
   "execution_count": 78,
   "id": "1b5177b9-7068-430a-bf7c-130063290fb5",
   "metadata": {},
   "outputs": [
    {
     "name": "stdout",
     "output_type": "stream",
     "text": [
      "\u001b[0m\u001b[01;34m.\u001b[0m/  \u001b[01;34m..\u001b[0m/  gender_submission.csv  kaggle.json  test.csv  titanic.zip  train.csv\n"
     ]
    }
   ],
   "source": [
    "ls -a"
   ]
  },
  {
   "cell_type": "code",
   "execution_count": 26,
   "id": "57bb5b39-87b2-457f-ab2e-8b6526413bf6",
   "metadata": {},
   "outputs": [],
   "source": [
    "!unzip titanic.zip"
   ]
  },
  {
   "cell_type": "code",
   "execution_count": 79,
   "id": "49fe465d-1497-4275-b618-6463ff54e247",
   "metadata": {},
   "outputs": [
    {
     "name": "stdout",
     "output_type": "stream",
     "text": [
      "\u001b[0m\u001b[01;34m.\u001b[0m/  \u001b[01;34m..\u001b[0m/  gender_submission.csv  kaggle.json  test.csv  titanic.zip  train.csv\n"
     ]
    }
   ],
   "source": [
    "ls -a"
   ]
  },
  {
   "cell_type": "code",
   "execution_count": 80,
   "id": "6da96141-bc2e-403b-b61e-ae3e6bd38fdf",
   "metadata": {},
   "outputs": [
    {
     "name": "stdout",
     "output_type": "stream",
     "text": [
      "/home/jupyter\n"
     ]
    }
   ],
   "source": [
    "cd "
   ]
  },
  {
   "cell_type": "code",
   "execution_count": 81,
   "id": "ea37eccc-e6cb-42a3-9100-ea7cc6118524",
   "metadata": {},
   "outputs": [
    {
     "name": "stdout",
     "output_type": "stream",
     "text": [
      "mkdir: cannot create directory ‘projects_data’: File exists\n"
     ]
    }
   ],
   "source": [
    "mkdir projects_data"
   ]
  },
  {
   "cell_type": "code",
   "execution_count": 83,
   "id": "e32bcf9e-91f1-49ec-bba2-6759fe3cba0a",
   "metadata": {},
   "outputs": [
    {
     "name": "stdout",
     "output_type": "stream",
     "text": [
      "/home/jupyter/projects_data\n"
     ]
    }
   ],
   "source": [
    "cd projects_data"
   ]
  },
  {
   "cell_type": "code",
   "execution_count": 86,
   "id": "bf783315-ffc3-4877-a259-6d1081b92f95",
   "metadata": {},
   "outputs": [],
   "source": [
    "mkdir titanic"
   ]
  },
  {
   "cell_type": "code",
   "execution_count": 89,
   "id": "e601ef10-ebfc-4453-a770-f398e847e036",
   "metadata": {},
   "outputs": [
    {
     "name": "stdout",
     "output_type": "stream",
     "text": [
      "/home/jupyter\n"
     ]
    }
   ],
   "source": [
    "cd"
   ]
  },
  {
   "cell_type": "code",
   "execution_count": 90,
   "id": "b65eb586-85d0-49ec-b99c-cfdeeaff1942",
   "metadata": {},
   "outputs": [
    {
     "name": "stdout",
     "output_type": "stream",
     "text": [
      "/home/jupyter/.kaggle\n"
     ]
    }
   ],
   "source": [
    "cd .kaggle"
   ]
  },
  {
   "cell_type": "code",
   "execution_count": 91,
   "id": "2356758a-00a9-47ed-bd16-c29622a516be",
   "metadata": {},
   "outputs": [
    {
     "name": "stdout",
     "output_type": "stream",
     "text": [
      "gender_submission.csv  kaggle.json  test.csv  titanic.zip  train.csv\n"
     ]
    }
   ],
   "source": [
    "ls"
   ]
  },
  {
   "cell_type": "code",
   "execution_count": 92,
   "id": "d40592b5-c001-4698-8dda-236a015b9b0f",
   "metadata": {},
   "outputs": [],
   "source": [
    "cp train.csv test.csv gender_submission.csv /home/jupyter/projects_data/titanic"
   ]
  },
  {
   "cell_type": "code",
   "execution_count": null,
   "id": "785c0cfb-2c9d-4403-8f33-555716dfff49",
   "metadata": {},
   "outputs": [],
   "source": []
  }
 ],
 "metadata": {
  "environment": {
   "kernel": "python3",
   "name": "common-cpu.m98",
   "type": "gcloud",
   "uri": "gcr.io/deeplearning-platform-release/base-cpu:m98"
  },
  "kernelspec": {
   "display_name": "Python 3",
   "language": "python",
   "name": "python3"
  },
  "language_info": {
   "codemirror_mode": {
    "name": "ipython",
    "version": 3
   },
   "file_extension": ".py",
   "mimetype": "text/x-python",
   "name": "python",
   "nbconvert_exporter": "python",
   "pygments_lexer": "ipython3",
   "version": "3.7.12"
  }
 },
 "nbformat": 4,
 "nbformat_minor": 5
}
