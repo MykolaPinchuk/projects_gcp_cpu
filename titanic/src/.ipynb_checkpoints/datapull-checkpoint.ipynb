{
 "cells": [
  {
   "cell_type": "code",
   "execution_count": 28,
   "id": "5458a938-932c-4426-8784-754acffa6602",
   "metadata": {},
   "outputs": [
    {
     "name": "stdout",
     "output_type": "stream",
     "text": [
      "Requirement already satisfied: kaggle in /opt/conda/lib/python3.7/site-packages (1.5.12)\n",
      "Requirement already satisfied: certifi in /opt/conda/lib/python3.7/site-packages (from kaggle) (2022.9.24)\n",
      "Requirement already satisfied: python-dateutil in /opt/conda/lib/python3.7/site-packages (from kaggle) (2.8.2)\n",
      "Requirement already satisfied: tqdm in /opt/conda/lib/python3.7/site-packages (from kaggle) (4.64.1)\n",
      "Requirement already satisfied: python-slugify in /opt/conda/lib/python3.7/site-packages (from kaggle) (7.0.0)\n",
      "Requirement already satisfied: urllib3 in /opt/conda/lib/python3.7/site-packages (from kaggle) (1.26.11)\n",
      "Requirement already satisfied: requests in /opt/conda/lib/python3.7/site-packages (from kaggle) (2.28.1)\n",
      "Requirement already satisfied: six>=1.10 in /opt/conda/lib/python3.7/site-packages (from kaggle) (1.16.0)\n",
      "Requirement already satisfied: text-unidecode>=1.3 in /opt/conda/lib/python3.7/site-packages (from python-slugify->kaggle) (1.3)\n",
      "Requirement already satisfied: idna<4,>=2.5 in /opt/conda/lib/python3.7/site-packages (from requests->kaggle) (3.4)\n",
      "Requirement already satisfied: charset-normalizer<3,>=2 in /opt/conda/lib/python3.7/site-packages (from requests->kaggle) (2.1.1)\n"
     ]
    }
   ],
   "source": [
    "# ! pip install --user kaggle"
   ]
  },
  {
   "cell_type": "code",
   "execution_count": 91,
   "id": "11158102-2b39-4704-af50-8bdae9b29cff",
   "metadata": {},
   "outputs": [
    {
     "name": "stdout",
     "output_type": "stream",
     "text": [
      "/home/jupyter\n"
     ]
    }
   ],
   "source": [
    "cd"
   ]
  },
  {
   "cell_type": "code",
   "execution_count": 43,
   "id": "792a1e50-dac6-40be-a64a-ab365fa55904",
   "metadata": {},
   "outputs": [],
   "source": [
    "# rm .kaggle"
   ]
  },
  {
   "cell_type": "code",
   "execution_count": 44,
   "id": "d312bdd5-8666-4a85-b98d-cc899d411d1f",
   "metadata": {},
   "outputs": [],
   "source": [
    "# mkdir ~/.kaggle"
   ]
  },
  {
   "cell_type": "code",
   "execution_count": 46,
   "id": "ff9ab3b7-966c-463a-a959-5c568a0be796",
   "metadata": {},
   "outputs": [
    {
     "name": "stdout",
     "output_type": "stream",
     "text": [
      "Copying gs://pmykola-projects-data/kaggle.json to file://.kaggle/kaggle.json\n",
      "  Completed files 1/1 | 63.0B/63.0B                                            \n"
     ]
    }
   ],
   "source": [
    "# !gcloud storage cp gs://pmykola-projects-data/kaggle.json .kaggle"
   ]
  },
  {
   "cell_type": "code",
   "execution_count": 79,
   "id": "596188c4-5bf1-4102-a846-fef4edaedcf3",
   "metadata": {},
   "outputs": [
    {
     "name": "stdout",
     "output_type": "stream",
     "text": [
      "data_description.txt                             test.csv\n",
      "gender_submission.csv                            \u001b[0m\u001b[01;34mtitanic\u001b[0m/\n",
      "house-prices-advanced-regression-techniques.zip  titanic.zip\n",
      "\u001b[01;34mhouse_price\u001b[0m/                                     train.csv\n",
      "sample_submission.csv\n"
     ]
    }
   ],
   "source": [
    "ls"
   ]
  },
  {
   "cell_type": "code",
   "execution_count": 48,
   "id": "6fb9195b-94a1-4abd-b721-6b982d88b4e9",
   "metadata": {},
   "outputs": [],
   "source": [
    "# mkdir projects_data"
   ]
  },
  {
   "cell_type": "code",
   "execution_count": 92,
   "id": "eb9f6a3e-3e9b-463b-b6ce-03aead3688b5",
   "metadata": {},
   "outputs": [
    {
     "name": "stdout",
     "output_type": "stream",
     "text": [
      "/home/jupyter/projects_data\n"
     ]
    }
   ],
   "source": [
    "cd projects_data"
   ]
  },
  {
   "cell_type": "code",
   "execution_count": 57,
   "id": "33631dfc-c26a-4f54-9577-3700dda05b77",
   "metadata": {},
   "outputs": [],
   "source": [
    "mkdir titanic"
   ]
  },
  {
   "cell_type": "code",
   "execution_count": 93,
   "id": "e7827f31-c8ba-4278-9658-24770dd2ee10",
   "metadata": {},
   "outputs": [
    {
     "name": "stdout",
     "output_type": "stream",
     "text": [
      "Warning: Your Kaggle API key is readable by other users on this system! To fix this, you can run 'chmod 600 /home/jupyter/.kaggle/kaggle.json'\n",
      "titanic.zip: Skipping, found more recently modified local copy (use --force to force download)\n"
     ]
    }
   ],
   "source": [
    "!kaggle competitions download -c titanic"
   ]
  },
  {
   "cell_type": "code",
   "execution_count": 94,
   "id": "001fd528-771c-4732-8a6a-e1ab6a095aa8",
   "metadata": {},
   "outputs": [
    {
     "name": "stdout",
     "output_type": "stream",
     "text": [
      "Archive:  titanic.zip\n",
      "  inflating: gender_submission.csv   \n",
      "  inflating: test.csv                \n",
      "  inflating: train.csv               \n"
     ]
    }
   ],
   "source": [
    "!unzip -o titanic.zip"
   ]
  },
  {
   "cell_type": "code",
   "execution_count": 95,
   "id": "19d1e050-d775-4712-b5ad-acebd0afeb74",
   "metadata": {},
   "outputs": [],
   "source": [
    "cp train.csv test.csv gender_submission.csv /home/jupyter/projects_data/titanic"
   ]
  }
 ],
 "metadata": {
  "environment": {
   "kernel": "python3",
   "name": "common-cpu.m100",
   "type": "gcloud",
   "uri": "gcr.io/deeplearning-platform-release/base-cpu:m100"
  },
  "kernelspec": {
   "display_name": "Python 3",
   "language": "python",
   "name": "python3"
  },
  "language_info": {
   "codemirror_mode": {
    "name": "ipython",
    "version": 3
   },
   "file_extension": ".py",
   "mimetype": "text/x-python",
   "name": "python",
   "nbconvert_exporter": "python",
   "pygments_lexer": "ipython3",
   "version": "3.7.12"
  }
 },
 "nbformat": 4,
 "nbformat_minor": 5
}
