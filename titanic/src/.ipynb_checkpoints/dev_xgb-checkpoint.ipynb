{
 "cells": [
  {
   "cell_type": "markdown",
   "id": "41c6b00c-7370-4d8a-a1e7-18ef5956f2dd",
   "metadata": {},
   "source": [
    "### This is a test project to predict daily SP500 using AlphaVantage (AV) API for datapull"
   ]
  },
  {
   "cell_type": "code",
   "execution_count": 3,
   "id": "ddbdec5f-994c-4387-bdb7-92fe949bf84d",
   "metadata": {},
   "outputs": [],
   "source": [
    "import numpy as np\n",
    "import pandas as pd\n",
    "import os, time, warnings, random, shap, requests\n",
    "import seaborn as sns\n",
    "import matplotlib.pyplot as plt\n",
    "\n",
    "from sklearn.compose import ColumnTransformer, make_column_transformer\n",
    "from sklearn.preprocessing import LabelBinarizer, LabelEncoder, OrdinalEncoder, OneHotEncoder, StandardScaler\n",
    "from sklearn.linear_model import LogisticRegression, LinearRegression, Lasso, Ridge\n",
    "from sklearn.model_selection import RandomizedSearchCV, GridSearchCV, train_test_split, KFold\n",
    "from sklearn.ensemble import RandomForestRegressor, RandomForestClassifier, VotingClassifier\n",
    "from sklearn.metrics import accuracy_score, f1_score, r2_score, mean_squared_error\n",
    "from sklearn.inspection import permutation_importance\n",
    "from xgboost import XGBClassifier, XGBRegressor\n",
    "\n",
    "pd.set_option('display.max_columns', 100)\n",
    "pd.set_option('mode.chained_assignment', None)\n",
    "pd.set_option('display.expand_frame_repr', False)\n",
    "warnings.filterwarnings('ignore') "
   ]
  },
  {
   "cell_type": "markdown",
   "id": "0e839316-bcde-4eb3-858d-ebaaf1e44b70",
   "metadata": {},
   "source": [
    "Datapull using AV APIs:"
   ]
  },
  {
   "cell_type": "code",
   "execution_count": 10,
   "id": "200c2de5-edb9-4b27-9c79-3e74e84663fc",
   "metadata": {},
   "outputs": [
    {
     "data": {
      "text/html": [
       "<div>\n",
       "<style scoped>\n",
       "    .dataframe tbody tr th:only-of-type {\n",
       "        vertical-align: middle;\n",
       "    }\n",
       "\n",
       "    .dataframe tbody tr th {\n",
       "        vertical-align: top;\n",
       "    }\n",
       "\n",
       "    .dataframe thead th {\n",
       "        text-align: right;\n",
       "    }\n",
       "</style>\n",
       "<table border=\"1\" class=\"dataframe\">\n",
       "  <thead>\n",
       "    <tr style=\"text-align: right;\">\n",
       "      <th></th>\n",
       "      <th>timestamp</th>\n",
       "      <th>open</th>\n",
       "      <th>high</th>\n",
       "      <th>low</th>\n",
       "      <th>close</th>\n",
       "      <th>adjusted_close</th>\n",
       "      <th>volume</th>\n",
       "      <th>dividend_amount</th>\n",
       "      <th>split_coefficient</th>\n",
       "    </tr>\n",
       "  </thead>\n",
       "  <tbody>\n",
       "    <tr>\n",
       "      <th>0</th>\n",
       "      <td>2022-11-21</td>\n",
       "      <td>147.55</td>\n",
       "      <td>147.9280</td>\n",
       "      <td>146.4500</td>\n",
       "      <td>146.68</td>\n",
       "      <td>146.68</td>\n",
       "      <td>3476208</td>\n",
       "      <td>0.0</td>\n",
       "      <td>1.0</td>\n",
       "    </tr>\n",
       "    <tr>\n",
       "      <th>1</th>\n",
       "      <td>2022-11-18</td>\n",
       "      <td>146.56</td>\n",
       "      <td>148.3100</td>\n",
       "      <td>145.9400</td>\n",
       "      <td>147.64</td>\n",
       "      <td>147.64</td>\n",
       "      <td>4661735</td>\n",
       "      <td>0.0</td>\n",
       "      <td>1.0</td>\n",
       "    </tr>\n",
       "    <tr>\n",
       "      <th>2</th>\n",
       "      <td>2022-11-17</td>\n",
       "      <td>143.41</td>\n",
       "      <td>146.1800</td>\n",
       "      <td>143.2500</td>\n",
       "      <td>146.09</td>\n",
       "      <td>146.09</td>\n",
       "      <td>3955162</td>\n",
       "      <td>0.0</td>\n",
       "      <td>1.0</td>\n",
       "    </tr>\n",
       "    <tr>\n",
       "      <th>3</th>\n",
       "      <td>2022-11-16</td>\n",
       "      <td>144.13</td>\n",
       "      <td>144.9500</td>\n",
       "      <td>144.0081</td>\n",
       "      <td>144.52</td>\n",
       "      <td>144.52</td>\n",
       "      <td>3445302</td>\n",
       "      <td>0.0</td>\n",
       "      <td>1.0</td>\n",
       "    </tr>\n",
       "    <tr>\n",
       "      <th>4</th>\n",
       "      <td>2022-11-15</td>\n",
       "      <td>144.08</td>\n",
       "      <td>146.1609</td>\n",
       "      <td>142.0000</td>\n",
       "      <td>144.34</td>\n",
       "      <td>144.34</td>\n",
       "      <td>4727107</td>\n",
       "      <td>0.0</td>\n",
       "      <td>1.0</td>\n",
       "    </tr>\n",
       "  </tbody>\n",
       "</table>\n",
       "</div>"
      ],
      "text/plain": [
       "    timestamp    open      high       low   close  adjusted_close   volume  dividend_amount  split_coefficient\n",
       "0  2022-11-21  147.55  147.9280  146.4500  146.68          146.68  3476208              0.0                1.0\n",
       "1  2022-11-18  146.56  148.3100  145.9400  147.64          147.64  4661735              0.0                1.0\n",
       "2  2022-11-17  143.41  146.1800  143.2500  146.09          146.09  3955162              0.0                1.0\n",
       "3  2022-11-16  144.13  144.9500  144.0081  144.52          144.52  3445302              0.0                1.0\n",
       "4  2022-11-15  144.08  146.1609  142.0000  144.34          144.34  4727107              0.0                1.0"
      ]
     },
     "execution_count": 10,
     "metadata": {},
     "output_type": "execute_result"
    }
   ],
   "source": [
    "url = 'https://www.alphavantage.co/query?function=TIME_SERIES_DAILY_ADJUSTED&symbol=IBM&apikey=KBYUCPQEHAG67WNC&datatype=csv'\n",
    "# r = requests.get(url)\n",
    "# data = r.json()\n",
    "data = pd.read_csv(url)\n",
    "data.head()"
   ]
  },
  {
   "cell_type": "code",
   "execution_count": null,
   "id": "7bdc7042-906a-4def-b342-e90a62ba6bbc",
   "metadata": {},
   "outputs": [],
   "source": []
  },
  {
   "cell_type": "code",
   "execution_count": null,
   "id": "eb2d97e8-60be-4e14-a657-0bf46632710e",
   "metadata": {},
   "outputs": [],
   "source": []
  }
 ],
 "metadata": {
  "environment": {
   "kernel": "python3",
   "name": "common-cpu.m100",
   "type": "gcloud",
   "uri": "gcr.io/deeplearning-platform-release/base-cpu:m100"
  },
  "kernelspec": {
   "display_name": "Python 3",
   "language": "python",
   "name": "python3"
  },
  "language_info": {
   "codemirror_mode": {
    "name": "ipython",
    "version": 3
   },
   "file_extension": ".py",
   "mimetype": "text/x-python",
   "name": "python",
   "nbconvert_exporter": "python",
   "pygments_lexer": "ipython3",
   "version": "3.7.12"
  }
 },
 "nbformat": 4,
 "nbformat_minor": 5
}
