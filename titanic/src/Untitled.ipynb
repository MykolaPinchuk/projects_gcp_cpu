{
 "cells": [
  {
   "cell_type": "markdown",
   "id": "06ae639b-b194-483d-bc6f-6fd5c99a3e9b",
   "metadata": {},
   "source": [
    "### This is a short script to ingest Kaggle dataset into a Gogole bucket"
   ]
  },
  {
   "cell_type": "code",
   "execution_count": 2,
   "id": "b9f9a5d4-33e1-4145-839b-b570e6ab50ac",
   "metadata": {},
   "outputs": [],
   "source": [
    "# ! pip install kaggle\n",
    "\n",
    "# https://towardsdatascience.com/quickly-transfer-a-kaggle-dataset-into-a-google-bucket-ac21aefceb15#:~:text=Navigate%20to%20the%20competition%20or,tool%20and%20extract%20the%20data.&text=Then%20all%20that's%20left%20is,VM%20and%20transfer%20the%20data!\n",
    "# some instructions on how to set up the whole thing\n",
    "\n",
    "# mkdir .kaggle"
   ]
  },
  {
   "cell_type": "code",
   "execution_count": 9,
   "id": "12e7b535-3f39-4099-96c6-a1bb914f855b",
   "metadata": {},
   "outputs": [
    {
     "name": "stdout",
     "output_type": "stream",
     "text": [
      "\u001b[0m\u001b[01;34m.\u001b[0m/   \u001b[01;34m.cache\u001b[0m/   \u001b[01;34m.docker\u001b[0m/    \u001b[01;34m.ipython\u001b[0m/  \u001b[01;34m.kaggle\u001b[0m/  \u001b[01;34mprojects_gcp_cpu\u001b[0m/  \u001b[01;34mtutorials\u001b[0m/\n",
      "\u001b[01;34m..\u001b[0m/  \u001b[01;34m.config\u001b[0m/  .gitconfig  \u001b[01;34m.jupyter\u001b[0m/  \u001b[01;34m.local\u001b[0m/   \u001b[01;34msrc\u001b[0m/\n"
     ]
    }
   ],
   "source": [
    "ls -a"
   ]
  },
  {
   "cell_type": "code",
   "execution_count": 11,
   "id": "16b45a20-c239-474b-b5f4-f503096d039d",
   "metadata": {},
   "outputs": [
    {
     "name": "stdout",
     "output_type": "stream",
     "text": [
      "Copying gs://pmykola-projects-data/temp/kaggle.json to file://.kaggle/kaggle.json\n",
      "  Completed files 1/1 | 63.0B/63.0B                                            \n"
     ]
    }
   ],
   "source": [
    "!gcloud storage cp gs://pmykola-projects-data/temp/kaggle.json .kaggle"
   ]
  },
  {
   "cell_type": "code",
   "execution_count": 13,
   "id": "911fd041-0512-4066-a9ed-b38578a61694",
   "metadata": {},
   "outputs": [
    {
     "name": "stdout",
     "output_type": "stream",
     "text": [
      "\u001b[0m\u001b[01;34m.\u001b[0m/   \u001b[01;34m.cache\u001b[0m/   \u001b[01;34m.docker\u001b[0m/    \u001b[01;34m.ipython\u001b[0m/  \u001b[01;34m.kaggle\u001b[0m/  \u001b[01;34mprojects_gcp_cpu\u001b[0m/  \u001b[01;34mtutorials\u001b[0m/\n",
      "\u001b[01;34m..\u001b[0m/  \u001b[01;34m.config\u001b[0m/  .gitconfig  \u001b[01;34m.jupyter\u001b[0m/  \u001b[01;34m.local\u001b[0m/   \u001b[01;34msrc\u001b[0m/\n"
     ]
    }
   ],
   "source": [
    "ls -a"
   ]
  },
  {
   "cell_type": "code",
   "execution_count": null,
   "id": "a8a9f1fd-6717-42fd-8237-71149bc42dba",
   "metadata": {},
   "outputs": [],
   "source": []
  }
 ],
 "metadata": {
  "environment": {
   "kernel": "python3",
   "name": "common-cpu.m98",
   "type": "gcloud",
   "uri": "gcr.io/deeplearning-platform-release/base-cpu:m98"
  },
  "kernelspec": {
   "display_name": "Python 3",
   "language": "python",
   "name": "python3"
  },
  "language_info": {
   "codemirror_mode": {
    "name": "ipython",
    "version": 3
   },
   "file_extension": ".py",
   "mimetype": "text/x-python",
   "name": "python",
   "nbconvert_exporter": "python",
   "pygments_lexer": "ipython3",
   "version": "3.7.12"
  }
 },
 "nbformat": 4,
 "nbformat_minor": 5
}
